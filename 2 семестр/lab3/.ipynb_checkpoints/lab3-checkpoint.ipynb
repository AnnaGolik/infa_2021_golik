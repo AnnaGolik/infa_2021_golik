{
 "cells": [
  {
   "cell_type": "code",
   "execution_count": 77,
   "id": "7792c85c",
   "metadata": {},
   "outputs": [
    {
     "data": {
      "image/png": "[encoded data removed]",
      "text/plain": [
       "<Figure size 432x288 with 5 Axes>"
      ]
     },
     "metadata": {
      "needs_background": "light"
     },
     "output_type": "display_data"
    }
   ],
   "source": [
    "import matplotlib.pyplot as plt\n",
    "import numpy as np\n",
    "\n",
    "def reading_x (name):\n",
    "    f=open(name, 'r')\n",
    "    Flag=True\n",
    "    x=[]\n",
    "    for line in f: \n",
    "        if Flag==False:\n",
    "            a=line.split()\n",
    "            x.append(float(a[0]))\n",
    "        Flag=False\n",
    "    f.close()  \n",
    "    return x\n",
    "\n",
    "def reading_y (name):\n",
    "    f=open(name, 'r')\n",
    "    Flag=True\n",
    "    y1=[]\n",
    "    y2=[]\n",
    "    y3=[]\n",
    "    y4=[]\n",
    "    y5=[]\n",
    "    for line in f: \n",
    "        if Flag==False:\n",
    "            a=line.split()\n",
    "            y1.append(float(a[1]))\n",
    "            y2.append(float(a[2]))\n",
    "            y3.append(float(a[3]))\n",
    "            y4.append(float(a[4]))\n",
    "            y5.append(float(a[5]))\n",
    "        Flag=False\n",
    "    f.close()  \n",
    "    return y1, y2, y3, y4, y5\n",
    "\n",
    "x=reading_x('melting.txt')\n",
    "y1, y2, y3, y4, y5 = reading_y('melting.txt')\n",
    "\n",
    "def curve(grades):\n",
    "    maxel = np.max(grades)\n",
    "    minel= np.min(grades)\n",
    "    change = maxel - minel\n",
    "    a=np.argmax(grades)\n",
    "    b=np.argmin(grades)\n",
    "    grades[a]=1\n",
    "    grades[b]=0\n",
    "    for i in range (len(grades)):\n",
    "        if i!=a and i!=b:\n",
    "            grades[i]=(grades[i]-minel)/change\n",
    "    return grades\n",
    "\n",
    "gradesmass = [y1, y2, y3, y4, y5]\n",
    "for i in range (len(gradesmass)):\n",
    "    grades = np.array(gradesmass[i])\n",
    "    plt.plot(x, grades)\n",
    "    plt.title('Флуоресценция '+str(i+1))\n",
    "    plt.xlabel('temperature')\n",
    "    plt.ylabel('signal')\n",
    "plt.tight_layout()\n",
    "plt.show()"
   ]
  },
  {
   "cell_type": "code",
   "execution_count": 145,
   "id": "0e9ceac2",
   "metadata": {},
   "outputs": [
    {
     "name": "stdout",
     "output_type": "stream",
     "text": [
      "среднее по каждому столбцу ex2_1:  [50.35 58.65 50.55 45.35 57.4 ]\n",
      "среднее по каждому столбцу ex2_2:  [39.61111111 55.5        51.55555556 53.55555556 49.94444444 58.5       ]\n"
     ]
    }
   ],
   "source": [
    "import numpy as np\n",
    "\n",
    "def reading_x (name):\n",
    "    f=open(name, 'r')\n",
    "    Flag=True\n",
    "    x=[]\n",
    "    \n",
    "    for line in f: \n",
    "        a=line.split()\n",
    "        a=list(map(int,a))\n",
    "        x.append((a))\n",
    "    x=np.array(x)\n",
    "    x=x.ravel()\n",
    "    f.close()  \n",
    "    return x, len(a)\n",
    "\n",
    "\n",
    "x11,a11=reading_x('ex2_1.txt')\n",
    "x1=x11.reshape(int(len(x11)/a11), a11)\n",
    "\n",
    "x22,a22=reading_x('ex2_2.txt')\n",
    "x2=x22.reshape(int(len(x22)/a22), a22)\n",
    "\n",
    "meanx1=x1.mean(axis=0)\n",
    "meanx2=x2.mean(axis=0)\n",
    "\n",
    "print('среднее по каждому столбцу ex2_1: ', meanx1)\n",
    "print('среднее по каждому столбцу ex2_2: ', meanx2)"
   ]
  },
  {
   "cell_type": "code",
   "execution_count": 190,
   "id": "520335e0",
   "metadata": {},
   "outputs": [
    {
     "name": "stdout",
     "output_type": "stream",
     "text": [
      "сумма в каждом столбце:  [34 34 34 34]\n",
      "сумма в каждой строке:  [34 34 34 34]\n",
      "сумма в левом верхнем квадрате:  34\n",
      "сумма в правом верхнем квадрате:  34\n",
      "сумма в левом нижнем квадрате:  34\n",
      "сумма в правом нижнем квадрате:  34\n",
      "сумма в центральном квадрате:  34\n"
     ]
    }
   ],
   "source": [
    "import numpy as np\n",
    "\n",
    "square = np.array([\n",
    "    [16, 3, 2, 13],\n",
    "    [5, 10, 11, 8],\n",
    "    [9, 6, 7, 12],\n",
    "    [4, 15, 14, 1]\n",
    "])\n",
    "\n",
    "sumcol=square.sum(axis=0)\n",
    "sumline=square.sum(axis=1)\n",
    "\n",
    "s1=square[:2, :2]\n",
    "s11=s1.sum(axis=1)\n",
    "s12=s11.sum(axis=0)\n",
    "\n",
    "s2=square[:2, 2:]\n",
    "s21=s2.sum(axis=1)\n",
    "s22=s21.sum(axis=0)\n",
    "\n",
    "s3=square[2:, :2]\n",
    "s31=s3.sum(axis=1)\n",
    "s32=s31.sum(axis=0)\n",
    "\n",
    "s4=square[2:, 2:]\n",
    "s41=s4.sum(axis=1)\n",
    "s42=s41.sum(axis=0)\n",
    "        \n",
    "s5=square[1: 3:, 1: 3:]\n",
    "s51=s5.sum(axis=1)\n",
    "s52=s51.sum(axis=0)\n",
    "    \n",
    "print('сумма в каждом столбце: ', sumcol)\n",
    "print('сумма в каждой строке: ', sumline)\n",
    "\n",
    "print('сумма в левом верхнем квадрате: ', s12)\n",
    "print('сумма в правом верхнем квадрате: ', s22)\n",
    "print('сумма в левом нижнем квадрате: ', s32)\n",
    "print('сумма в правом нижнем квадрате: ', s42)\n",
    "print('сумма в центральном квадрате: ', s52)"
   ]
  },
  {
   "cell_type": "code",
   "execution_count": 6,
   "id": "e70ab14d",
   "metadata": {},
   "outputs": [
    {
     "name": "stdout",
     "output_type": "stream",
     "text": [
      "среднее: 4382.08\n",
      "стандартное отклонение: 1816.365239041972\n",
      "среднее_2: 5071.064814814815\n",
      "стандартное отклонение_2: 572.7614601590126\n"
     ]
    }
   ],
   "source": [
    "import matplotlib.pyplot as plt\n",
    "import numpy as np\n",
    "\n",
    "def reading_file (name):\n",
    "    f=open(name, 'r')\n",
    "    file=[]\n",
    "    for line in f: \n",
    "        a=line.split()\n",
    "        file.append(int(a[0]))\n",
    "    f.close()  \n",
    "    return file\n",
    "\n",
    "file=reading_file('ex4.txt')\n",
    "\n",
    "print('среднее:', str(np.mean(file)))\n",
    "print('стандартное отклонение:', np.std(file))\n",
    "\n",
    "file.sort()\n",
    "x = [i for i in np.quantile(file, [0.25,0.5,0.75])]\n",
    "filenew = []\n",
    "for i in file:\n",
    "    if i > (x[0] - 1.5 * (x[2] - x[0])) and i < (x[2] + 1.5 * (x[2] - x[0])):\n",
    "            filenew.append(i)\n",
    "            \n",
    "print('среднее_2:', str(np.mean(filenew)))\n",
    "print('стандартное отклонение_2:', np.std(filenew))"
   ]
  },
  {
   "cell_type": "code",
   "execution_count": null,
   "id": "81a38c8b",
   "metadata": {},
   "outputs": [],
   "source": []
  }
 ],
 "metadata": {
  "kernelspec": {
   "display_name": "Python 3 (ipykernel)",
   "language": "python",
   "name": "python3"
  },
  "language_info": {
   "codemirror_mode": {
    "name": "ipython",
    "version": 3
   },
   "file_extension": ".py",
   "mimetype": "text/x-python",
   "name": "python",
   "nbconvert_exporter": "python",
   "pygments_lexer": "ipython3",
   "version": "3.9.7"
  }
 },
 "nbformat": 4,
 "nbformat_minor": 5
}
