{
 "cells": [
  {
   "cell_type": "code",
   "execution_count": 31,
   "id": "99329075",
   "metadata": {
    "scrolled": true
   },
   "outputs": [
    {
     "name": "stdout",
     "output_type": "stream",
     "text": [
      "отсортированные столбцы:  \n",
      " [[1 2 3]\n",
      " [4 5 6]\n",
      " [7 8 9]]\n",
      "транспонированный массив:  \n",
      " [[1 4 7]\n",
      " [2 5 8]\n",
      " [3 6 9]]\n",
      "вертикальное объединение:  \n",
      " [[1 2 3]\n",
      " [7 8 9]\n",
      " [4 5 6]\n",
      " [1 4 7]\n",
      " [2 5 8]\n",
      " [3 6 9]]\n",
      "горизонтальное объединение:  \n",
      " [[1 2 3 1 4 7]\n",
      " [7 8 9 2 5 8]\n",
      " [4 5 6 3 6 9]]\n",
      "объединение без оси:  \n",
      " [1 2 3 7 8 9 4 5 6 1 4 7 2 5 8 3 6 9]\n"
     ]
    }
   ],
   "source": [
    "import numpy as np\n",
    "a=np.array([\n",
    "    [1, 2, 3],\n",
    "    [7, 8 ,9],\n",
    "    [4, 5, 6]\n",
    "])\n",
    "b=np.sort(a, axis=0)\n",
    "c=b.T\n",
    "d=np.vstack((a,c))\n",
    "e=np.hstack((a,c))\n",
    "f=np.concatenate((a, c), axis=None)\n",
    "\n",
    "print('отсортированные столбцы: ', '\\n', b)\n",
    "print('транспонированный массив: ', '\\n', c)\n",
    "print('вертикальное объединение: ', '\\n', d)\n",
    "print('горизонтальное объединение: ', '\\n', e)\n",
    "print('объединение без оси: ', '\\n', f)"
   ]
  },
  {
   "cell_type": "code",
   "execution_count": 133,
   "id": "6709b85c",
   "metadata": {},
   "outputs": [
    {
     "name": "stdout",
     "output_type": "stream",
     "text": [
      "4\n",
      "12000000\n",
      "123000\n",
      "500000\n",
      "11999999\n",
      "[12000000   123000   500000 11999999]\n"
     ]
    }
   ],
   "source": [
    "import numpy as np\n",
    "import math as m\n",
    "def what_type(a):\n",
    "    if np.amin(a) < 0:\n",
    "        if abs(np.amax(a)) < abs(np.amin(a)):\n",
    "            eltype=m.ceil(np.log(abs(np.amin(a)))/np.log(2))\n",
    "        else:\n",
    "            eltype=m.ceil(np.log(np.amax(a))/np.log(2))\n",
    "        dtype=np.int8\n",
    "    else:\n",
    "        eltype=m.ceil(np.log(np.amax(a))/np.log(2))\n",
    "        if eltype<11:\n",
    "            dtype=np.uint8\n",
    "        else:\n",
    "            dtype=np.uint64\n",
    "    return dtype\n",
    "\n",
    "n=int(input())\n",
    "a=[]\n",
    "for i in range (n):      \n",
    "    a.append(int(input()))\n",
    "dtype=what_type(a)\n",
    "row = np.array(a, dtype=dtype)\n",
    "print(row)"
   ]
  },
  {
   "cell_type": "code",
   "execution_count": 15,
   "id": "c02fdc62",
   "metadata": {},
   "outputs": [
    {
     "name": "stdout",
     "output_type": "stream",
     "text": [
      "структурированный список:  \n",
      " [('5-Apr', 'Liza',   3, 'Transfection') ('5-Apr', 'Dasha',  40, 'Virus')\n",
      " ('5-Apr', 'Dima', 300, 'Biomass') ('9-Apr', 'Dasha', 300, 'Biomass')\n",
      " ('9-Apr', 'Liza',  40, 'Virus') ('8-Apr', 'Dasha',   1, 'Titer')]\n",
      "заказано на 5 апреля:  343\n",
      "кто заказывал на 9 апреля:  ['Dasha' 'Liza']\n"
     ]
    }
   ],
   "source": [
    "import numpy as np\n",
    "\n",
    "def reading (name):\n",
    "    f=open(name, 'r')\n",
    "    Flag=True\n",
    "    x=[]\n",
    "    name=[]\n",
    "    c0=[]\n",
    "    c1=[]\n",
    "    c3=[]\n",
    "    for line in f: \n",
    "        if Flag==True:\n",
    "            a=line.split()\n",
    "            name.append(a[0])\n",
    "            name.append(a[1])\n",
    "            name.append(a[2])\n",
    "            name.append(a[3])\n",
    "        if Flag==False:\n",
    "            a=line.split()\n",
    "            x.append((a[0], a[1], int(a[2]), a[3]))\n",
    "            c0.append(len(a[0]))\n",
    "            c1.append(len(a[1]))\n",
    "            c3.append(len(a[3]))\n",
    "        Flag=False\n",
    "    c0=max(c0)\n",
    "    c1=max(c1)\n",
    "    c3=max(c3)\n",
    "    x=np.array(x, dtype=[(name[0], str, c0), (name[1], str, c1), (name[2], int), (name[3], str, c3)])\n",
    "    f.close()  \n",
    "    return x, name\n",
    "\n",
    "x, name = reading('cell_culture.txt')\n",
    "print('структурированный список: ', '\\n', x)\n",
    "\n",
    "amount=sum(x[x[name[0]] == '5-Apr'][name[2]])\n",
    "print('заказано на 5 апреля: ', amount)\n",
    "\n",
    "people=x[x[name[0]] == '9-Apr'][name[1]]\n",
    "print('кто заказывал на 9 апреля: ', people)"
   ]
  },
  {
   "cell_type": "code",
   "execution_count": null,
   "id": "ee41782a",
   "metadata": {},
   "outputs": [],
   "source": []
  },
  {
   "cell_type": "code",
   "execution_count": null,
   "id": "ec89f6d2",
   "metadata": {},
   "outputs": [],
   "source": []
  }
 ],
 "metadata": {
  "kernelspec": {
   "display_name": "Python 3 (ipykernel)",
   "language": "python",
   "name": "python3"
  },
  "language_info": {
   "codemirror_mode": {
    "name": "ipython",
    "version": 3
   },
   "file_extension": ".py",
   "mimetype": "text/x-python",
   "name": "python",
   "nbconvert_exporter": "python",
   "pygments_lexer": "ipython3",
   "version": "3.9.7"
  }
 },
 "nbformat": 4,
 "nbformat_minor": 5
}
